{
 "cells": [
  {
   "cell_type": "code",
   "execution_count": 3,
   "id": "527ae533",
   "metadata": {},
   "outputs": [],
   "source": [
    "import requests\n",
    "from bs4 import BeautifulSoup as bs\n",
    "from urllib.request import urlopen as uReq\n",
    "import pandas as pd"
   ]
  },
  {
   "cell_type": "code",
   "execution_count": 4,
   "id": "2ca523a2",
   "metadata": {},
   "outputs": [],
   "source": [
    "leagues = ['Spain - La Liga', 'Italy - Serie A','France - Ligue 1','Germany - Bundesliga','England - Premier League','Europe - UEFA Champions League']\n"
   ]
  },
  {
   "cell_type": "code",
   "execution_count": null,
   "id": "810e16a4",
   "metadata": {},
   "outputs": [],
   "source": []
  }
 ],
 "metadata": {
  "kernelspec": {
   "display_name": "Python 3 (ipykernel)",
   "language": "python",
   "name": "python3"
  },
  "language_info": {
   "codemirror_mode": {
    "name": "ipython",
    "version": 3
   },
   "file_extension": ".py",
   "mimetype": "text/x-python",
   "name": "python",
   "nbconvert_exporter": "python",
   "pygments_lexer": "ipython3",
   "version": "3.9.13"
  }
 },
 "nbformat": 4,
 "nbformat_minor": 5
}
