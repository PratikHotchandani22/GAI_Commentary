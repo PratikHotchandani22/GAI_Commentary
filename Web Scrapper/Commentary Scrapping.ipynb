{
 "cells": [
  {
   "cell_type": "code",
   "execution_count": 18,
   "id": "527ae533",
   "metadata": {},
   "outputs": [],
   "source": [
    "import requests\n",
    "from bs4 import BeautifulSoup as bs\n",
    "from urllib.request import urlopen as uReq\n",
    "import pandas as pd\n",
    "from datetime import datetime\n",
    "from datetime import datetime, timedelta\n"
   ]
  },
  {
   "cell_type": "code",
   "execution_count": 2,
   "id": "2ca523a2",
   "metadata": {},
   "outputs": [],
   "source": [
    "leagues = ['Spain - La Liga', 'Italy - Serie A','France - Ligue 1','Germany - Bundesliga','England - Premier League','Europe - UEFA Champions League']\n"
   ]
  },
  {
   "cell_type": "code",
   "execution_count": 26,
   "id": "810e16a4",
   "metadata": {},
   "outputs": [],
   "source": [
    "main_url = \"https://www.goal.com/en-us/results/\" "
   ]
  },
  {
   "cell_type": "code",
   "execution_count": 9,
   "id": "e72d9ff0",
   "metadata": {},
   "outputs": [],
   "source": [
    "start_date = \"2023-04-06\""
   ]
  },
  {
   "cell_type": "code",
   "execution_count": 10,
   "id": "3a96d0cc",
   "metadata": {},
   "outputs": [],
   "source": [
    "end_date = \"2023-05-06\""
   ]
  },
  {
   "cell_type": "code",
   "execution_count": 11,
   "id": "b6924fd0",
   "metadata": {},
   "outputs": [],
   "source": [
    "date_format = \"%Y-%m-%d\"\n",
    "\n",
    "start_datetime_object = datetime.strptime(start_date, date_format)\n",
    "end_datetime_object = datetime.strptime(end_date, date_format)"
   ]
  },
  {
   "cell_type": "code",
   "execution_count": 32,
   "id": "d674288b",
   "metadata": {},
   "outputs": [],
   "source": [
    "url_list = [] "
   ]
  },
  {
   "cell_type": "code",
   "execution_count": 33,
   "id": "5fbc4743",
   "metadata": {},
   "outputs": [],
   "source": [
    "final_date = start_datetime_object\n",
    "for i in range((end_datetime_object-start_datetime_object).days):\n",
    "    \n",
    "    # Add one day\n",
    "    one_day = timedelta(days=1)\n",
    "    final_date = (final_date + one_day)\n",
    "    final_date1 = final_date.date()\n",
    "    url_list.append(main_url+str(final_date1))\n"
   ]
  },
  {
   "cell_type": "code",
   "execution_count": 73,
   "id": "72e6d342",
   "metadata": {},
   "outputs": [
    {
     "name": "stdout",
     "output_type": "stream",
     "text": [
      "<section class=\"match-list_match-list-wrapper__bV1Jn\" style=\"min-height:0\"></section>\n",
      "<section class=\"match-list_match-list-wrapper__bV1Jn\" style=\"min-height:0\"></section>\n",
      "<section class=\"match-list_match-list-wrapper__bV1Jn\" style=\"min-height:0\"></section>\n",
      "<section class=\"match-list_match-list-wrapper__bV1Jn\" style=\"min-height:0\"></section>\n",
      "<section class=\"match-list_match-list-wrapper__bV1Jn\" style=\"min-height:0\"></section>\n",
      "<section class=\"match-list_match-list-wrapper__bV1Jn\" style=\"min-height:0\"></section>\n",
      "<section class=\"match-list_match-list-wrapper__bV1Jn\" style=\"min-height:0\"></section>\n",
      "<section class=\"match-list_match-list-wrapper__bV1Jn\" style=\"min-height:0\"></section>\n",
      "<section class=\"match-list_match-list-wrapper__bV1Jn\" style=\"min-height:0\"></section>\n",
      "<section class=\"match-list_match-list-wrapper__bV1Jn\" style=\"min-height:0\"></section>\n",
      "<section class=\"match-list_match-list-wrapper__bV1Jn\" style=\"min-height:0\"></section>\n",
      "<section class=\"match-list_match-list-wrapper__bV1Jn\" style=\"min-height:0\"></section>\n",
      "<section class=\"match-list_match-list-wrapper__bV1Jn\" style=\"min-height:0\"></section>\n",
      "<section class=\"match-list_match-list-wrapper__bV1Jn\" style=\"min-height:0\"></section>\n",
      "<section class=\"match-list_match-list-wrapper__bV1Jn\" style=\"min-height:0\"></section>\n",
      "<section class=\"match-list_match-list-wrapper__bV1Jn\" style=\"min-height:0\"></section>\n",
      "<section class=\"match-list_match-list-wrapper__bV1Jn\" style=\"min-height:0\"></section>\n",
      "<section class=\"match-list_match-list-wrapper__bV1Jn\" style=\"min-height:0\"></section>\n",
      "<section class=\"match-list_match-list-wrapper__bV1Jn\" style=\"min-height:0\"></section>\n",
      "<section class=\"match-list_match-list-wrapper__bV1Jn\" style=\"min-height:0\"></section>\n",
      "<section class=\"match-list_match-list-wrapper__bV1Jn\" style=\"min-height:0\"></section>\n",
      "<section class=\"match-list_match-list-wrapper__bV1Jn\" style=\"min-height:0\"></section>\n",
      "<section class=\"match-list_match-list-wrapper__bV1Jn\" style=\"min-height:0\"></section>\n",
      "<section class=\"match-list_match-list-wrapper__bV1Jn\" style=\"min-height:0\"></section>\n",
      "<section class=\"match-list_match-list-wrapper__bV1Jn\" style=\"min-height:0\"></section>\n",
      "<section class=\"match-list_match-list-wrapper__bV1Jn\" style=\"min-height:0\"></section>\n",
      "<section class=\"match-list_match-list-wrapper__bV1Jn\" style=\"min-height:0\"></section>\n",
      "<section class=\"match-list_match-list-wrapper__bV1Jn\" style=\"min-height:0\"></section>\n",
      "<section class=\"match-list_match-list-wrapper__bV1Jn\" style=\"min-height:0\"></section>\n",
      "<section class=\"match-list_match-list-wrapper__bV1Jn\" style=\"min-height:0\"></section>\n"
     ]
    }
   ],
   "source": [
    "for i in url_list:\n",
    "    uClient = uReq(i)\n",
    "    goal_page = uClient.read()\n",
    "    uClient.close()\n",
    "    goal_html = bs(goal_page, \"html.parser\")\n",
    "    full_league_box = goal_html.find(\"section\", {\"class\": \"match-list_match-list-wrapper__bV1Jn\"})\n",
    "    print(full_league_box)"
   ]
  },
  {
   "cell_type": "code",
   "execution_count": 69,
   "id": "d2ce99d8",
   "metadata": {},
   "outputs": [
    {
     "name": "stdout",
     "output_type": "stream",
     "text": [
      "[]\n"
     ]
    }
   ],
   "source": [
    "url = \"https://www.goal.com/en-us/results/2023-05-04\"\n",
    "\n",
    "# Send a GET request to the URL\n",
    "response = requests.get(url)\n",
    "\n",
    "# Create a BeautifulSoup object from the response text\n",
    "soup = bs(response.text, \"html.parser\")\n",
    "\n",
    "# Find all <div> tags with class \"competition_competition__s2ULZ\"\n",
    "section = soup.findAll(\"div\", {\"class\":\"competition_competition__s2ULZ\"})\n",
    "\n",
    "print(section)\n",
    "\n",
    "# Print the found tags\n",
    "for tag in inner_tags:\n",
    "    print(tag)"
   ]
  },
  {
   "cell_type": "code",
   "execution_count": 74,
   "id": "a094c38b",
   "metadata": {},
   "outputs": [
    {
     "name": "stdout",
     "output_type": "stream",
     "text": [
      "<section class=\"fixtures\">\n",
      "</section>\n"
     ]
    }
   ],
   "source": [
    "url = \"https://www.premierleague.com/results\"\n",
    "\n",
    "# Send a GET request to the URL\n",
    "response = requests.get(url)\n",
    "\n",
    "# Create a BeautifulSoup object from the response text\n",
    "soup = bs(response.text, \"html.parser\")\n",
    "\n",
    "# Find all <div> tags with class \"competition_competition__s2ULZ\"\n",
    "section = soup.find(\"section\", {\"class\":\"fixtures\"})\n",
    "\n",
    "print(section)\n",
    "\n"
   ]
  },
  {
   "cell_type": "code",
   "execution_count": null,
   "id": "7f5d09b2",
   "metadata": {},
   "outputs": [],
   "source": []
  }
 ],
 "metadata": {
  "kernelspec": {
   "display_name": "Python 3 (ipykernel)",
   "language": "python",
   "name": "python3"
  },
  "language_info": {
   "codemirror_mode": {
    "name": "ipython",
    "version": 3
   },
   "file_extension": ".py",
   "mimetype": "text/x-python",
   "name": "python",
   "nbconvert_exporter": "python",
   "pygments_lexer": "ipython3",
   "version": "3.9.13"
  }
 },
 "nbformat": 4,
 "nbformat_minor": 5
}
