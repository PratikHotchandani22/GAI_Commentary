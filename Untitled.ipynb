{
 "cells": [
  {
   "cell_type": "code",
   "execution_count": null,
   "id": "a83c37e1",
   "metadata": {},
   "outputs": [],
   "source": [
    "from googleapiclient.discovery import build\n",
    "from googleapiclient.errors import HttpError\n",
    "\n",
    "# Set up the YouTube Data API client\n",
    "api_key = \"YOUR_API_KEY\"\n",
    "youtube = build('youtube', 'v3', developerKey=api_key)\n",
    "\n",
    "# Define search parameters\n",
    "keyword = \"Premiere League full match\"\n",
    "max_results = 10  # Number of results to retrieve\n",
    "\n",
    "try:\n",
    "    # Search for videos matching the keyword and filter by duration\n",
    "    search_response = youtube.search().list(\n",
    "        q=keyword,\n",
    "        part='id',\n",
    "        type='video',\n",
    "        maxResults=max_results,\n",
    "        videoDuration='long'\n",
    "    ).execute()\n",
    "\n",
    "    # Retrieve the video IDs from the search results\n",
    "    video_ids = [item['id']['videoId'] for item in search_response['items']]\n",
    "\n",
    "    # Fetch video details for each video ID\n",
    "    video_details = youtube.videos().list(\n",
    "        part='snippet',\n",
    "        id=','.join(video_ids)\n",
    "    ).execute()\n",
    "\n",
    "    # Display video titles and URLs\n",
    "    for item in video_details['items']:\n",
    "        video_title = item['snippet']['title']\n",
    "        video_url = f\"https://www.youtube.com/watch?v={item['id']}\"\n",
    "        print(f\"Title: {video_title}\")\n",
    "        print(f\"URL: {video_url}\\n\")\n",
    "\n",
    "except HttpError as e:\n",
    "    print(f\"An HTTP error occurred: {e}\")\n"
   ]
  }
 ],
 "metadata": {
  "kernelspec": {
   "display_name": "Python 3 (ipykernel)",
   "language": "python",
   "name": "python3"
  },
  "language_info": {
   "codemirror_mode": {
    "name": "ipython",
    "version": 3
   },
   "file_extension": ".py",
   "mimetype": "text/x-python",
   "name": "python",
   "nbconvert_exporter": "python",
   "pygments_lexer": "ipython3",
   "version": "3.9.13"
  }
 },
 "nbformat": 4,
 "nbformat_minor": 5
}
